{
 "cells": [
  {
   "cell_type": "code",
   "execution_count": 1,
   "id": "e93cfd6c",
   "metadata": {
    "ExecuteTime": {
     "end_time": "2023-06-24T23:02:26.788860Z",
     "start_time": "2023-06-24T23:02:25.553662Z"
    }
   },
   "outputs": [
    {
     "name": "stderr",
     "output_type": "stream",
     "text": [
      "C:\\Users\\Alqurtubi\\anaconda3\\lib\\site-packages\\numpy\\_distributor_init.py:30: UserWarning: loaded more than 1 DLL from .libs:\n",
      "C:\\Users\\Alqurtubi\\anaconda3\\lib\\site-packages\\numpy\\.libs\\libopenblas.FB5AE2TYXYH2IJRDKGDGQ3XBKLKTF43H.gfortran-win_amd64.dll\n",
      "C:\\Users\\Alqurtubi\\anaconda3\\lib\\site-packages\\numpy\\.libs\\libopenblas64__v0.3.23-gcc_10_3_0.dll\n",
      "  warnings.warn(\"loaded more than 1 DLL from .libs:\"\n"
     ]
    },
    {
     "data": {
      "application/javascript": [
       "\n",
       "        if (window._pyforest_update_imports_cell) { window._pyforest_update_imports_cell('import pandas as pd'); }\n",
       "    "
      ],
      "text/plain": [
       "<IPython.core.display.Javascript object>"
      ]
     },
     "metadata": {},
     "output_type": "display_data"
    },
    {
     "data": {
      "application/javascript": [
       "\n",
       "        if (window._pyforest_update_imports_cell) { window._pyforest_update_imports_cell('import pandas as pd'); }\n",
       "    "
      ],
      "text/plain": [
       "<IPython.core.display.Javascript object>"
      ]
     },
     "metadata": {},
     "output_type": "display_data"
    }
   ],
   "source": [
    "geo = pd.read_csv(\"Location, Region, and Area of National Park in America.csv\")\n",
    "spec = pd.read_csv(\"Species for Each Individuals of the National Park in America.csv\", low_memory=False)\n",
    "spec = spec.drop('Unnamed: 13', axis=1)"
   ]
  },
  {
   "cell_type": "code",
   "execution_count": 27,
   "id": "f7c34e0c",
   "metadata": {
    "ExecuteTime": {
     "end_time": "2023-06-24T23:30:02.673444Z",
     "start_time": "2023-06-24T23:30:02.501184Z"
    }
   },
   "outputs": [
    {
     "data": {
      "application/javascript": [
       "\n",
       "        if (window._pyforest_update_imports_cell) { window._pyforest_update_imports_cell('import numpy as np\\nimport pandas as pd'); }\n",
       "    "
      ],
      "text/plain": [
       "<IPython.core.display.Javascript object>"
      ]
     },
     "metadata": {},
     "output_type": "display_data"
    },
    {
     "data": {
      "application/javascript": [
       "\n",
       "        if (window._pyforest_update_imports_cell) { window._pyforest_update_imports_cell('import numpy as np\\nimport pandas as pd'); }\n",
       "    "
      ],
      "text/plain": [
       "<IPython.core.display.Javascript object>"
      ]
     },
     "metadata": {},
     "output_type": "display_data"
    },
    {
     "data": {
      "application/javascript": [
       "\n",
       "        if (window._pyforest_update_imports_cell) { window._pyforest_update_imports_cell('import numpy as np\\nimport pandas as pd'); }\n",
       "    "
      ],
      "text/plain": [
       "<IPython.core.display.Javascript object>"
      ]
     },
     "metadata": {},
     "output_type": "display_data"
    },
    {
     "data": {
      "application/javascript": [
       "\n",
       "        if (window._pyforest_update_imports_cell) { window._pyforest_update_imports_cell('import numpy as np\\nimport pandas as pd'); }\n",
       "    "
      ],
      "text/plain": [
       "<IPython.core.display.Javascript object>"
      ]
     },
     "metadata": {},
     "output_type": "display_data"
    },
    {
     "data": {
      "application/javascript": [
       "\n",
       "        if (window._pyforest_update_imports_cell) { window._pyforest_update_imports_cell('import numpy as np\\nimport pandas as pd'); }\n",
       "    "
      ],
      "text/plain": [
       "<IPython.core.display.Javascript object>"
      ]
     },
     "metadata": {},
     "output_type": "display_data"
    },
    {
     "data": {
      "application/javascript": [
       "\n",
       "        if (window._pyforest_update_imports_cell) { window._pyforest_update_imports_cell('import numpy as np\\nimport pandas as pd'); }\n",
       "    "
      ],
      "text/plain": [
       "<IPython.core.display.Javascript object>"
      ]
     },
     "metadata": {},
     "output_type": "display_data"
    },
    {
     "data": {
      "application/javascript": [
       "\n",
       "        if (window._pyforest_update_imports_cell) { window._pyforest_update_imports_cell('import numpy as np\\nimport pandas as pd'); }\n",
       "    "
      ],
      "text/plain": [
       "<IPython.core.display.Javascript object>"
      ]
     },
     "metadata": {},
     "output_type": "display_data"
    },
    {
     "data": {
      "application/javascript": [
       "\n",
       "        if (window._pyforest_update_imports_cell) { window._pyforest_update_imports_cell('import numpy as np\\nimport pandas as pd'); }\n",
       "    "
      ],
      "text/plain": [
       "<IPython.core.display.Javascript object>"
      ]
     },
     "metadata": {},
     "output_type": "display_data"
    },
    {
     "data": {
      "application/javascript": [
       "\n",
       "        if (window._pyforest_update_imports_cell) { window._pyforest_update_imports_cell('import numpy as np\\nimport pandas as pd'); }\n",
       "    "
      ],
      "text/plain": [
       "<IPython.core.display.Javascript object>"
      ]
     },
     "metadata": {},
     "output_type": "display_data"
    },
    {
     "data": {
      "application/javascript": [
       "\n",
       "        if (window._pyforest_update_imports_cell) { window._pyforest_update_imports_cell('import numpy as np\\nimport pandas as pd'); }\n",
       "    "
      ],
      "text/plain": [
       "<IPython.core.display.Javascript object>"
      ]
     },
     "metadata": {},
     "output_type": "display_data"
    },
    {
     "data": {
      "application/javascript": [
       "\n",
       "        if (window._pyforest_update_imports_cell) { window._pyforest_update_imports_cell('import numpy as np\\nimport pandas as pd'); }\n",
       "    "
      ],
      "text/plain": [
       "<IPython.core.display.Javascript object>"
      ]
     },
     "metadata": {},
     "output_type": "display_data"
    },
    {
     "data": {
      "application/javascript": [
       "\n",
       "        if (window._pyforest_update_imports_cell) { window._pyforest_update_imports_cell('import numpy as np\\nimport pandas as pd'); }\n",
       "    "
      ],
      "text/plain": [
       "<IPython.core.display.Javascript object>"
      ]
     },
     "metadata": {},
     "output_type": "display_data"
    },
    {
     "data": {
      "application/javascript": [
       "\n",
       "        if (window._pyforest_update_imports_cell) { window._pyforest_update_imports_cell('import numpy as np\\nimport pandas as pd'); }\n",
       "    "
      ],
      "text/plain": [
       "<IPython.core.display.Javascript object>"
      ]
     },
     "metadata": {},
     "output_type": "display_data"
    },
    {
     "data": {
      "application/javascript": [
       "\n",
       "        if (window._pyforest_update_imports_cell) { window._pyforest_update_imports_cell('import numpy as np\\nimport pandas as pd'); }\n",
       "    "
      ],
      "text/plain": [
       "<IPython.core.display.Javascript object>"
      ]
     },
     "metadata": {},
     "output_type": "display_data"
    },
    {
     "data": {
      "application/javascript": [
       "\n",
       "        if (window._pyforest_update_imports_cell) { window._pyforest_update_imports_cell('import numpy as np\\nimport pandas as pd'); }\n",
       "    "
      ],
      "text/plain": [
       "<IPython.core.display.Javascript object>"
      ]
     },
     "metadata": {},
     "output_type": "display_data"
    },
    {
     "data": {
      "application/javascript": [
       "\n",
       "        if (window._pyforest_update_imports_cell) { window._pyforest_update_imports_cell('import numpy as np\\nimport pandas as pd'); }\n",
       "    "
      ],
      "text/plain": [
       "<IPython.core.display.Javascript object>"
      ]
     },
     "metadata": {},
     "output_type": "display_data"
    },
    {
     "data": {
      "application/javascript": [
       "\n",
       "        if (window._pyforest_update_imports_cell) { window._pyforest_update_imports_cell('import numpy as np\\nimport pandas as pd'); }\n",
       "    "
      ],
      "text/plain": [
       "<IPython.core.display.Javascript object>"
      ]
     },
     "metadata": {},
     "output_type": "display_data"
    },
    {
     "data": {
      "application/javascript": [
       "\n",
       "        if (window._pyforest_update_imports_cell) { window._pyforest_update_imports_cell('import numpy as np\\nimport pandas as pd'); }\n",
       "    "
      ],
      "text/plain": [
       "<IPython.core.display.Javascript object>"
      ]
     },
     "metadata": {},
     "output_type": "display_data"
    },
    {
     "data": {
      "application/javascript": [
       "\n",
       "        if (window._pyforest_update_imports_cell) { window._pyforest_update_imports_cell('import numpy as np\\nimport pandas as pd'); }\n",
       "    "
      ],
      "text/plain": [
       "<IPython.core.display.Javascript object>"
      ]
     },
     "metadata": {},
     "output_type": "display_data"
    },
    {
     "data": {
      "application/javascript": [
       "\n",
       "        if (window._pyforest_update_imports_cell) { window._pyforest_update_imports_cell('import numpy as np\\nimport pandas as pd'); }\n",
       "    "
      ],
      "text/plain": [
       "<IPython.core.display.Javascript object>"
      ]
     },
     "metadata": {},
     "output_type": "display_data"
    },
    {
     "data": {
      "application/javascript": [
       "\n",
       "        if (window._pyforest_update_imports_cell) { window._pyforest_update_imports_cell('import numpy as np\\nimport pandas as pd'); }\n",
       "    "
      ],
      "text/plain": [
       "<IPython.core.display.Javascript object>"
      ]
     },
     "metadata": {},
     "output_type": "display_data"
    },
    {
     "data": {
      "application/javascript": [
       "\n",
       "        if (window._pyforest_update_imports_cell) { window._pyforest_update_imports_cell('import numpy as np\\nimport pandas as pd'); }\n",
       "    "
      ],
      "text/plain": [
       "<IPython.core.display.Javascript object>"
      ]
     },
     "metadata": {},
     "output_type": "display_data"
    },
    {
     "data": {
      "application/javascript": [
       "\n",
       "        if (window._pyforest_update_imports_cell) { window._pyforest_update_imports_cell('import numpy as np\\nimport pandas as pd'); }\n",
       "    "
      ],
      "text/plain": [
       "<IPython.core.display.Javascript object>"
      ]
     },
     "metadata": {},
     "output_type": "display_data"
    },
    {
     "data": {
      "application/javascript": [
       "\n",
       "        if (window._pyforest_update_imports_cell) { window._pyforest_update_imports_cell('import numpy as np\\nimport pandas as pd'); }\n",
       "    "
      ],
      "text/plain": [
       "<IPython.core.display.Javascript object>"
      ]
     },
     "metadata": {},
     "output_type": "display_data"
    },
    {
     "data": {
      "application/javascript": [
       "\n",
       "        if (window._pyforest_update_imports_cell) { window._pyforest_update_imports_cell('import numpy as np\\nimport pandas as pd'); }\n",
       "    "
      ],
      "text/plain": [
       "<IPython.core.display.Javascript object>"
      ]
     },
     "metadata": {},
     "output_type": "display_data"
    },
    {
     "data": {
      "application/javascript": [
       "\n",
       "        if (window._pyforest_update_imports_cell) { window._pyforest_update_imports_cell('import numpy as np\\nimport pandas as pd'); }\n",
       "    "
      ],
      "text/plain": [
       "<IPython.core.display.Javascript object>"
      ]
     },
     "metadata": {},
     "output_type": "display_data"
    },
    {
     "data": {
      "application/javascript": [
       "\n",
       "        if (window._pyforest_update_imports_cell) { window._pyforest_update_imports_cell('import numpy as np\\nimport pandas as pd'); }\n",
       "    "
      ],
      "text/plain": [
       "<IPython.core.display.Javascript object>"
      ]
     },
     "metadata": {},
     "output_type": "display_data"
    },
    {
     "data": {
      "application/javascript": [
       "\n",
       "        if (window._pyforest_update_imports_cell) { window._pyforest_update_imports_cell('import numpy as np\\nimport pandas as pd'); }\n",
       "    "
      ],
      "text/plain": [
       "<IPython.core.display.Javascript object>"
      ]
     },
     "metadata": {},
     "output_type": "display_data"
    },
    {
     "data": {
      "application/javascript": [
       "\n",
       "        if (window._pyforest_update_imports_cell) { window._pyforest_update_imports_cell('import numpy as np\\nimport pandas as pd'); }\n",
       "    "
      ],
      "text/plain": [
       "<IPython.core.display.Javascript object>"
      ]
     },
     "metadata": {},
     "output_type": "display_data"
    }
   ],
   "source": [
    "#Expand the State's abbreviation\n",
    "geo[\"State_FullName\"] = np.nan\n",
    "geo[\"State_FullName\"] = np.where(geo[\"State\"]==\"ME\", \"Maine\", geo[\"State_FullName\"])\n",
    "geo[\"State_FullName\"] = np.where(geo[\"State\"]==\"UT\", \"Utah\", geo[\"State_FullName\"])\n",
    "geo[\"State_FullName\"] = np.where(geo[\"State\"]==\"SD\", \"South Dakota\", geo[\"State_FullName\"])\n",
    "geo[\"State_FullName\"] = np.where(geo[\"State\"]==\"TX\", \"Texas\", geo[\"State_FullName\"])\n",
    "geo[\"State_FullName\"] = np.where(geo[\"State\"]==\"FL\", \"Florida\", geo[\"State_FullName\"])\n",
    "geo[\"State_FullName\"] = np.where(geo[\"State\"]==\"CO\", \"Colorado\", geo[\"State_FullName\"])\n",
    "geo[\"State_FullName\"] = np.where(geo[\"State\"]==\"NM\", \"New Mexico\", geo[\"State_FullName\"])\n",
    "geo[\"State_FullName\"] = np.where(geo[\"State\"]==\"CA\", \"California\", geo[\"State_FullName\"])\n",
    "geo[\"State_FullName\"] = np.where(geo[\"State\"]==\"SC\", \"South Carolina\", geo[\"State_FullName\"])\n",
    "geo[\"State_FullName\"] = np.where(geo[\"State\"]==\"OR\", \"Oregon\", geo[\"State_FullName\"])\n",
    "geo[\"State_FullName\"] = np.where(geo[\"State\"]==\"OH\", \"Ohio\", geo[\"State_FullName\"])\n",
    "geo[\"State_FullName\"] = np.where(geo[\"State\"]==\"AK\", \"Alaska\", geo[\"State_FullName\"])\n",
    "geo[\"State_FullName\"] = np.where(geo[\"State\"]==\"CA, NV\", \"California/Nevada\", geo[\"State_FullName\"])\n",
    "geo[\"State_FullName\"] = np.where(geo[\"State\"]==\"MT\", \"Montana\", geo[\"State_FullName\"])\n",
    "geo[\"State_FullName\"] = np.where(geo[\"State\"]==\"NV\", \"Nevada\", geo[\"State_FullName\"])\n",
    "geo[\"State_FullName\"] = np.where(geo[\"State\"]==\"AZ\", \"Arizona\", geo[\"State_FullName\"])\n",
    "geo[\"State_FullName\"] = np.where(geo[\"State\"]==\"TN, NC\", \"Tennessee/North Carolina\", geo[\"State_FullName\"])\n",
    "geo[\"State_FullName\"] = np.where(geo[\"State\"]==\"WY\", \"Wyoming\", geo[\"State_FullName\"])\n",
    "geo[\"State_FullName\"] = np.where(geo[\"State\"]==\"HI\", \"Hawaii\", geo[\"State_FullName\"])\n",
    "geo[\"State_FullName\"] = np.where(geo[\"State\"]==\"AR\", \"Arkansas\", geo[\"State_FullName\"])\n",
    "geo[\"State_FullName\"] = np.where(geo[\"State\"]==\"MI\", \"Michigan\", geo[\"State_FullName\"])\n",
    "geo[\"State_FullName\"] = np.where(geo[\"State\"]==\"KY\", \"Kentucky\", geo[\"State_FullName\"])\n",
    "geo[\"State_FullName\"] = np.where(geo[\"State\"]==\"WA\", \"Washington\", geo[\"State_FullName\"])\n",
    "geo[\"State_FullName\"] = np.where(geo[\"State\"]==\"VA\", \"Virginia\", geo[\"State_FullName\"])\n",
    "geo[\"State_FullName\"] = np.where(geo[\"State\"]==\"ND\", \"North Dakota\", geo[\"State_FullName\"])\n",
    "geo[\"State_FullName\"] = np.where(geo[\"State\"]==\"MN\", \"Minnesota\", geo[\"State_FullName\"])\n",
    "geo[\"State_FullName\"] = np.where(geo[\"State\"]==\"WY, MT, ID\", \"Wyoming, Montana,Idaho\", geo[\"State_FullName\"])\n",
    "geo.loc[geo['State'] == 'CA, NV', 'State'] = 'CA'\n",
    "geo.loc[geo['State'] == 'TN, NC', 'State'] = 'TN'\n",
    "geo.loc[geo['State'] == 'WY, MT, ID', 'State'] = 'WY'\n",
    "df = pd.merge(geo, spec, on='Park Name')\n",
    "df['Status'] = df['Conservation Status'].fillna('Safe').astype(str)"
   ]
  },
  {
   "cell_type": "code",
   "execution_count": 28,
   "id": "d69b3978",
   "metadata": {
    "ExecuteTime": {
     "end_time": "2023-06-24T23:30:04.181143Z",
     "start_time": "2023-06-24T23:30:04.071131Z"
    }
   },
   "outputs": [],
   "source": [
    "# Regresi\n",
    "df_reg1 = df.groupby(['Park Name', 'State_FullName', 'Acres', 'Status'])['Species ID'].nunique().reset_index()\n",
    "df_reg1 = df_reg1.pivot_table(index=['Park Name', 'State_FullName', 'Acres'], columns='Status', values='Species ID', fill_value=0).reset_index()\n",
    "df_reg1['Conservation Status'] = df_reg1[['Breeder', 'Endangered', 'Extinct', 'In Recovery', 'Migratory', 'Proposed Endangered', \n",
    "        'Proposed Threatened', 'Resident', 'Species of Concern', 'Threatened', 'Under Review']].sum(axis=1)\n",
    "df_reg1['Species'] = df_reg1[['Breeder', 'Endangered', 'Extinct', 'In Recovery', 'Migratory', 'Proposed Endangered', \n",
    "        'Proposed Threatened', 'Resident', 'Species of Concern', 'Threatened', 'Under Review', 'Safe']].sum(axis=1)\n",
    "df_reg1 = df_reg1[['Park Name', 'State_FullName', 'Acres', 'Conservation Status', 'Species']]"
   ]
  },
  {
   "cell_type": "code",
   "execution_count": 30,
   "id": "786061c8",
   "metadata": {
    "ExecuteTime": {
     "end_time": "2023-06-24T23:31:04.207654Z",
     "start_time": "2023-06-24T23:31:04.142843Z"
    }
   },
   "outputs": [],
   "source": [
    "df_reg2 = df.groupby(['Park Name', 'State_FullName', 'Acres', 'Nativeness'])['Species ID'].nunique().reset_index()\n",
    "df_reg2 = df_reg2.pivot_table(index=['Park Name', 'State_FullName', 'Acres'], columns='Nativeness', values='Species ID', fill_value=0).reset_index()\n",
    "df_reg2 = df_reg2[['Park Name', 'Not Native']]"
   ]
  },
  {
   "cell_type": "code",
   "execution_count": 33,
   "id": "c77d58ef",
   "metadata": {
    "ExecuteTime": {
     "end_time": "2023-06-24T23:32:38.982380Z",
     "start_time": "2023-06-24T23:32:38.877574Z"
    }
   },
   "outputs": [],
   "source": [
    "df_reg3 = df.groupby(['Park Name', 'State_FullName', 'Acres', 'Abundance'])['Species ID'].nunique().reset_index()\n",
    "df_reg3 = df_reg3.pivot_table(index=['Park Name', 'State_FullName', 'Acres'], columns='Abundance', values='Species ID', fill_value=0).reset_index()\n",
    "df_reg3['Abundant'] = df_reg3['Abundant'] + df_reg3['Common']\n",
    "df_reg3 = df_reg3[['Park Name', 'Abundant']]"
   ]
  },
  {
   "cell_type": "code",
   "execution_count": 36,
   "id": "eb4fb3d2",
   "metadata": {
    "ExecuteTime": {
     "end_time": "2023-06-24T23:34:52.107613Z",
     "start_time": "2023-06-24T23:34:52.076604Z"
    }
   },
   "outputs": [
    {
     "data": {
      "application/javascript": [
       "\n",
       "        if (window._pyforest_update_imports_cell) { window._pyforest_update_imports_cell('import numpy as np\\nimport pandas as pd'); }\n",
       "    "
      ],
      "text/plain": [
       "<IPython.core.display.Javascript object>"
      ]
     },
     "metadata": {},
     "output_type": "display_data"
    },
    {
     "data": {
      "application/javascript": [
       "\n",
       "        if (window._pyforest_update_imports_cell) { window._pyforest_update_imports_cell('import numpy as np\\nimport pandas as pd'); }\n",
       "    "
      ],
      "text/plain": [
       "<IPython.core.display.Javascript object>"
      ]
     },
     "metadata": {},
     "output_type": "display_data"
    },
    {
     "data": {
      "text/html": [
       "<div>\n",
       "<style scoped>\n",
       "    .dataframe tbody tr th:only-of-type {\n",
       "        vertical-align: middle;\n",
       "    }\n",
       "\n",
       "    .dataframe tbody tr th {\n",
       "        vertical-align: top;\n",
       "    }\n",
       "\n",
       "    .dataframe thead th {\n",
       "        text-align: right;\n",
       "    }\n",
       "</style>\n",
       "<table border=\"1\" class=\"dataframe\">\n",
       "  <thead>\n",
       "    <tr style=\"text-align: right;\">\n",
       "      <th></th>\n",
       "      <th>Park Name</th>\n",
       "      <th>State_FullName</th>\n",
       "      <th>Acres</th>\n",
       "      <th>Conservation Status</th>\n",
       "      <th>Species</th>\n",
       "      <th>Not Native</th>\n",
       "      <th>Abundant</th>\n",
       "    </tr>\n",
       "  </thead>\n",
       "  <tbody>\n",
       "    <tr>\n",
       "      <th>0</th>\n",
       "      <td>Acadia National Park</td>\n",
       "      <td>Maine</td>\n",
       "      <td>47390</td>\n",
       "      <td>75</td>\n",
       "      <td>1709</td>\n",
       "      <td>485</td>\n",
       "      <td>320</td>\n",
       "    </tr>\n",
       "    <tr>\n",
       "      <th>1</th>\n",
       "      <td>Arches National Park</td>\n",
       "      <td>Utah</td>\n",
       "      <td>76519</td>\n",
       "      <td>75</td>\n",
       "      <td>1048</td>\n",
       "      <td>108</td>\n",
       "      <td>149</td>\n",
       "    </tr>\n",
       "    <tr>\n",
       "      <th>2</th>\n",
       "      <td>Badlands National Park</td>\n",
       "      <td>South Dakota</td>\n",
       "      <td>242756</td>\n",
       "      <td>69</td>\n",
       "      <td>1389</td>\n",
       "      <td>99</td>\n",
       "      <td>184</td>\n",
       "    </tr>\n",
       "    <tr>\n",
       "      <th>3</th>\n",
       "      <td>Big Bend National Park</td>\n",
       "      <td>Texas</td>\n",
       "      <td>801163</td>\n",
       "      <td>138</td>\n",
       "      <td>2269</td>\n",
       "      <td>112</td>\n",
       "      <td>172</td>\n",
       "    </tr>\n",
       "    <tr>\n",
       "      <th>4</th>\n",
       "      <td>Biscayne National Park</td>\n",
       "      <td>Florida</td>\n",
       "      <td>172924</td>\n",
       "      <td>64</td>\n",
       "      <td>1726</td>\n",
       "      <td>241</td>\n",
       "      <td>210</td>\n",
       "    </tr>\n",
       "  </tbody>\n",
       "</table>\n",
       "</div>"
      ],
      "text/plain": [
       "                Park Name State_FullName   Acres  Conservation Status  \\\n",
       "0    Acadia National Park          Maine   47390                   75   \n",
       "1    Arches National Park           Utah   76519                   75   \n",
       "2  Badlands National Park   South Dakota  242756                   69   \n",
       "3  Big Bend National Park          Texas  801163                  138   \n",
       "4  Biscayne National Park        Florida  172924                   64   \n",
       "\n",
       "   Species  Not Native  Abundant  \n",
       "0     1709         485       320  \n",
       "1     1048         108       149  \n",
       "2     1389          99       184  \n",
       "3     2269         112       172  \n",
       "4     1726         241       210  "
      ]
     },
     "execution_count": 36,
     "metadata": {},
     "output_type": "execute_result"
    }
   ],
   "source": [
    "df_temp = pd.merge(df_reg1, df_reg2, on='Park Name')\n",
    "df_reg = pd.merge(df_temp, df_reg3, on='Park Name')\n",
    "df_reg.head()"
   ]
  },
  {
   "cell_type": "code",
   "execution_count": 158,
   "id": "13deb745",
   "metadata": {
    "ExecuteTime": {
     "end_time": "2023-06-25T05:05:28.794628Z",
     "start_time": "2023-06-25T05:05:28.731194Z"
    }
   },
   "outputs": [
    {
     "data": {
      "application/javascript": [
       "\n",
       "        if (window._pyforest_update_imports_cell) { window._pyforest_update_imports_cell('import numpy as np\\nimport statsmodels.api as sm\\nfrom scipy import stats\\nimport pandas as pd'); }\n",
       "    "
      ],
      "text/plain": [
       "<IPython.core.display.Javascript object>"
      ]
     },
     "metadata": {},
     "output_type": "display_data"
    },
    {
     "data": {
      "text/html": [
       "<table class=\"simpletable\">\n",
       "<caption>Generalized Linear Model Regression Results</caption>\n",
       "<tr>\n",
       "  <th>Dep. Variable:</th>        <td>Species</td>     <th>  No. Observations:  </th>  <td>    56</td> \n",
       "</tr>\n",
       "<tr>\n",
       "  <th>Model:</th>                  <td>GLM</td>       <th>  Df Residuals:      </th>  <td>    51</td> \n",
       "</tr>\n",
       "<tr>\n",
       "  <th>Model Family:</th>         <td>Poisson</td>     <th>  Df Model:          </th>  <td>     4</td> \n",
       "</tr>\n",
       "<tr>\n",
       "  <th>Link Function:</th>          <td>Log</td>       <th>  Scale:             </th> <td>  1.0000</td>\n",
       "</tr>\n",
       "<tr>\n",
       "  <th>Method:</th>                <td>IRLS</td>       <th>  Log-Likelihood:    </th> <td> -189.77</td>\n",
       "</tr>\n",
       "<tr>\n",
       "  <th>Date:</th>            <td>Sun, 25 Jun 2023</td> <th>  Deviance:          </th> <td>  65.122</td>\n",
       "</tr>\n",
       "<tr>\n",
       "  <th>Time:</th>                <td>12:05:28</td>     <th>  Pearson chi2:      </th>  <td>  68.9</td> \n",
       "</tr>\n",
       "<tr>\n",
       "  <th>No. Iterations:</th>          <td>4</td>        <th>  Pseudo R-squ. (CS):</th>  <td>0.7708</td> \n",
       "</tr>\n",
       "<tr>\n",
       "  <th>Covariance Type:</th>     <td>nonrobust</td>    <th>                     </th>     <td> </td>   \n",
       "</tr>\n",
       "</table>\n",
       "<table class=\"simpletable\">\n",
       "<tr>\n",
       "           <td></td>              <th>coef</th>     <th>std err</th>      <th>z</th>      <th>P>|z|</th>  <th>[0.025</th>    <th>0.975]</th>  \n",
       "</tr>\n",
       "<tr>\n",
       "  <th>const</th>               <td>    3.3394</td> <td>    0.057</td> <td>   59.042</td> <td> 0.000</td> <td>    3.229</td> <td>    3.450</td>\n",
       "</tr>\n",
       "<tr>\n",
       "  <th>Acres</th>               <td>  8.59e-09</td> <td> 1.23e-08</td> <td>    0.701</td> <td> 0.483</td> <td>-1.54e-08</td> <td> 3.26e-08</td>\n",
       "</tr>\n",
       "<tr>\n",
       "  <th>Conservation Status</th> <td>    0.0032</td> <td>    0.001</td> <td>    6.214</td> <td> 0.000</td> <td>    0.002</td> <td>    0.004</td>\n",
       "</tr>\n",
       "<tr>\n",
       "  <th>Not Native</th>          <td>    0.0002</td> <td> 8.43e-05</td> <td>    2.255</td> <td> 0.024</td> <td> 2.49e-05</td> <td>    0.000</td>\n",
       "</tr>\n",
       "<tr>\n",
       "  <th>Abundant</th>            <td>    0.0005</td> <td>    0.000</td> <td>    4.204</td> <td> 0.000</td> <td>    0.000</td> <td>    0.001</td>\n",
       "</tr>\n",
       "</table>"
      ],
      "text/plain": [
       "<class 'statsmodels.iolib.summary.Summary'>\n",
       "\"\"\"\n",
       "                 Generalized Linear Model Regression Results                  \n",
       "==============================================================================\n",
       "Dep. Variable:                Species   No. Observations:                   56\n",
       "Model:                            GLM   Df Residuals:                       51\n",
       "Model Family:                 Poisson   Df Model:                            4\n",
       "Link Function:                    Log   Scale:                          1.0000\n",
       "Method:                          IRLS   Log-Likelihood:                -189.77\n",
       "Date:                Sun, 25 Jun 2023   Deviance:                       65.122\n",
       "Time:                        12:05:28   Pearson chi2:                     68.9\n",
       "No. Iterations:                     4   Pseudo R-squ. (CS):             0.7708\n",
       "Covariance Type:            nonrobust                                         \n",
       "=======================================================================================\n",
       "                          coef    std err          z      P>|z|      [0.025      0.975]\n",
       "---------------------------------------------------------------------------------------\n",
       "const                   3.3394      0.057     59.042      0.000       3.229       3.450\n",
       "Acres                 8.59e-09   1.23e-08      0.701      0.483   -1.54e-08    3.26e-08\n",
       "Conservation Status     0.0032      0.001      6.214      0.000       0.002       0.004\n",
       "Not Native              0.0002   8.43e-05      2.255      0.024    2.49e-05       0.000\n",
       "Abundant                0.0005      0.000      4.204      0.000       0.000       0.001\n",
       "=======================================================================================\n",
       "\"\"\""
      ]
     },
     "execution_count": 158,
     "metadata": {},
     "output_type": "execute_result"
    }
   ],
   "source": [
    "import libpysal\n",
    "import statsmodels.api as sm\n",
    "from sklearn.preprocessing import LabelEncoder, RobustScaler, StandardScaler\n",
    "le = LabelEncoder()\n",
    "re = StandardScaler()\n",
    "\n",
    "X_rp = df_reg[['Acres', 'Conservation Status', 'Not Native', 'Abundant']]\n",
    "X_rp_sc = re.fit_transform(X_rp)\n",
    "y_rp = df_reg['Species']\n",
    "y_rp_sc = np.sqrt(y_rp)\n",
    "X_reg_rp = sm.add_constant(X_rp)\n",
    "\n",
    "reg_gwpr = sm.GLM(y_rp_sc, X_reg_rp, family=sm.families.Poisson())\n",
    "mod_reg_gwpr = reg_gwpr.fit()\n",
    "\n",
    "mod_reg_gwpr.summary()"
   ]
  },
  {
   "cell_type": "markdown",
   "id": "48260c45",
   "metadata": {},
   "source": [
    "## Uji Overdispersi"
   ]
  },
  {
   "cell_type": "code",
   "execution_count": 310,
   "id": "ba1a883c",
   "metadata": {
    "ExecuteTime": {
     "end_time": "2023-06-25T13:04:57.337829Z",
     "start_time": "2023-06-25T13:04:57.285766Z"
    }
   },
   "outputs": [
    {
     "data": {
      "application/javascript": [
       "\n",
       "        if (window._pyforest_update_imports_cell) { window._pyforest_update_imports_cell('import numpy as np\\nimport statsmodels.api as sm\\nfrom scipy import stats\\nimport pandas as pd'); }\n",
       "    "
      ],
      "text/plain": [
       "<IPython.core.display.Javascript object>"
      ]
     },
     "metadata": {},
     "output_type": "display_data"
    },
    {
     "data": {
      "text/plain": [
       "0.8652831116954035"
      ]
     },
     "execution_count": 310,
     "metadata": {},
     "output_type": "execute_result"
    }
   ],
   "source": [
    "rp = sm.GLM(y_rp_sc, X_reg_rp, family=sm.families.Poisson()).fit()\n",
    "nb = sm.GLM(y_rp_sc, X_reg_rp, family=sm.families.NegativeBinomial()).fit()\n",
    "\n",
    "# Menghitung perbedaan deviance\n",
    "deviance_diff = rp.deviance - nb.deviance\n",
    "# # Menghitung derajat kebebasan perbedaan deviance\n",
    "df_diff = rp.df_model - nb.df_model\n",
    "\n",
    "# # Menghitung p-value menggunakan uji chi-square\n",
    "1 - stats.chi2.cdf(rp.deviance/rp.df_resid, 4) #pvalue"
   ]
  },
  {
   "cell_type": "code",
   "execution_count": 297,
   "id": "25674eab",
   "metadata": {
    "ExecuteTime": {
     "end_time": "2023-06-25T12:55:50.705152Z",
     "start_time": "2023-06-25T12:55:50.692113Z"
    }
   },
   "outputs": [
    {
     "data": {
      "text/plain": [
       "68.66929391228578"
      ]
     },
     "execution_count": 297,
     "metadata": {},
     "output_type": "execute_result"
    }
   ],
   "source": [
    "chi2.ppf(1 - 0.05, rp.df_resid) #chisq tabel"
   ]
  },
  {
   "cell_type": "markdown",
   "id": "9d9b58ae",
   "metadata": {},
   "source": [
    "## Uji Multikolinieritas"
   ]
  },
  {
   "cell_type": "code",
   "execution_count": 159,
   "id": "136e440a",
   "metadata": {
    "ExecuteTime": {
     "end_time": "2023-06-25T05:05:54.602450Z",
     "start_time": "2023-06-25T05:05:54.554752Z"
    }
   },
   "outputs": [
    {
     "data": {
      "application/javascript": [
       "\n",
       "        if (window._pyforest_update_imports_cell) { window._pyforest_update_imports_cell('import numpy as np\\nimport statsmodels.api as sm\\nfrom scipy import stats\\nimport pandas as pd'); }\n",
       "    "
      ],
      "text/plain": [
       "<IPython.core.display.Javascript object>"
      ]
     },
     "metadata": {},
     "output_type": "display_data"
    },
    {
     "name": "stdout",
     "output_type": "stream",
     "text": [
      "Uji Multikolinearitas (VIF):\n",
      "              Features       VIF\n",
      "0                Acres  1.270755\n",
      "1  Conservation Status  3.575650\n",
      "2           Not Native  2.073878\n",
      "3             Abundant  3.112352\n"
     ]
    }
   ],
   "source": [
    "from statsmodels.stats.outliers_influence import variance_inflation_factor\n",
    "\n",
    "# Menghitung Variance Inflation Factor (VIF) untuk setiap variabel independen\n",
    "vif_rp = pd.DataFrame()\n",
    "vif_rp[\"Features\"] = X_rp.columns\n",
    "vif_rp[\"VIF\"] = [variance_inflation_factor(X_rp, i) for i in range(X_rp.shape[1])]\n",
    "print(\"Uji Multikolinearitas (VIF):\")\n",
    "print(vif_rp)"
   ]
  },
  {
   "cell_type": "markdown",
   "id": "fab0d753",
   "metadata": {},
   "source": [
    "## Uji Heterogenitas Spasial"
   ]
  },
  {
   "cell_type": "code",
   "execution_count": 160,
   "id": "e5d439e1",
   "metadata": {
    "ExecuteTime": {
     "end_time": "2023-06-25T05:06:00.955588Z",
     "start_time": "2023-06-25T05:06:00.923896Z"
    }
   },
   "outputs": [
    {
     "name": "stdout",
     "output_type": "stream",
     "text": [
      "Uji Heteroskedastisitas (Breusch-Pagan):\n",
      "LM Statistic: 13.365253222692004\n",
      "LM-Test p-value: 0.003909759339570553\n",
      "F-Statistic: 4.075274395378189\n",
      "F-Test p-value: 0.006006465934724009\n"
     ]
    }
   ],
   "source": [
    "from statsmodels.stats.diagnostic import het_breuschpagan\n",
    "# Mendapatkan residu model\n",
    "residuals_rp = mod_reg_gwpr.resid_pearson\n",
    "\n",
    "# Uji heteroskedastisitas menggunakan Breusch-Pagan test\n",
    "breusch_pagan_test = het_breuschpagan(residuals_rp, X_rp)\n",
    "print(\"Uji Heteroskedastisitas (Breusch-Pagan):\")\n",
    "print(\"LM Statistic:\", breusch_pagan_test[0])\n",
    "print(\"LM-Test p-value:\", breusch_pagan_test[1])\n",
    "print(\"F-Statistic:\", breusch_pagan_test[2])\n",
    "print(\"F-Test p-value:\", breusch_pagan_test[3])"
   ]
  },
  {
   "cell_type": "markdown",
   "id": "fa98db56",
   "metadata": {},
   "source": [
    "## Regresi Poisson"
   ]
  },
  {
   "cell_type": "markdown",
   "id": "298e1b04",
   "metadata": {},
   "source": [
    "### Uji Keseluruhan Signifikansi"
   ]
  },
  {
   "cell_type": "code",
   "execution_count": 298,
   "id": "22135aa3",
   "metadata": {
    "ExecuteTime": {
     "end_time": "2023-06-25T12:58:15.159792Z",
     "start_time": "2023-06-25T12:58:15.091050Z"
    }
   },
   "outputs": [
    {
     "data": {
      "application/javascript": [
       "\n",
       "        if (window._pyforest_update_imports_cell) { window._pyforest_update_imports_cell('import numpy as np\\nimport statsmodels.api as sm\\nfrom scipy import stats\\nimport pandas as pd'); }\n",
       "    "
      ],
      "text/plain": [
       "<IPython.core.display.Javascript object>"
      ]
     },
     "metadata": {},
     "output_type": "display_data"
    },
    {
     "name": "stdout",
     "output_type": "stream",
     "text": [
      "LR Test Statistic: 164.98417061355372\n",
      "Chisq Tabel: 11.070497693516351\n",
      "p-value: 0.0\n",
      "RSquare 0.7707799802855082\n"
     ]
    }
   ],
   "source": [
    "from scipy.stats import chi2\n",
    "# Membangun model regresi Poisson\n",
    "model_full = sm.GLM(y_rp_sc, X_reg_rp, family=sm.families.Poisson())\n",
    "model_null = sm.GLM(y_rp_sc, np.ones_like(y_rp), family=sm.families.Poisson())\n",
    "\n",
    "# Menyesuaikan model dengan data\n",
    "results_full = model_full.fit()\n",
    "results_null = model_null.fit()\n",
    "\n",
    "# Menghitung deviance model\n",
    "deviance_full = results_full.deviance\n",
    "deviance_null = results_null.deviance\n",
    "\n",
    "# Menghitung likelihood ratio (LR) test statistic\n",
    "LR_statistic = 2 * (deviance_null - deviance_full)\n",
    "\n",
    "# Menghitung jumlah parameter dalam model\n",
    "k = X_reg_rp.shape[1]\n",
    "\n",
    "# Menghitung p-value menggunakan distribusi chi-square\n",
    "p_value = 1 - chi2.cdf(LR_statistic, df=k)\n",
    "\n",
    "# Menampilkan hasil uji likelihood ratio\n",
    "print(\"LR Test Statistic:\", LR_statistic)\n",
    "print(\"Chisq Tabel:\", chi2.ppf(1-0.05, 5)) # Chisq tabel\n",
    "print(\"p-value:\", p_value)\n",
    "print(\"RSquare\", mod_reg_gwpr.pseudo_rsquared())"
   ]
  },
  {
   "cell_type": "markdown",
   "id": "6e16ded2",
   "metadata": {},
   "source": [
    "### Uji Signifikansi Parsial"
   ]
  },
  {
   "cell_type": "code",
   "execution_count": 162,
   "id": "f4f870fa",
   "metadata": {
    "ExecuteTime": {
     "end_time": "2023-06-25T05:06:27.843803Z",
     "start_time": "2023-06-25T05:06:27.827982Z"
    }
   },
   "outputs": [
    {
     "data": {
      "text/plain": [
       "const                  0.000000e+00\n",
       "Acres                  4.834731e-01\n",
       "Conservation Status    5.161952e-10\n",
       "Not Native             2.413363e-02\n",
       "Abundant               2.620857e-05\n",
       "dtype: float64"
      ]
     },
     "execution_count": 162,
     "metadata": {},
     "output_type": "execute_result"
    }
   ],
   "source": [
    "mod_reg_gwpr.pvalues"
   ]
  },
  {
   "cell_type": "markdown",
   "id": "a000dff1",
   "metadata": {},
   "source": [
    "## GWPR"
   ]
  },
  {
   "cell_type": "markdown",
   "id": "6e04ce29",
   "metadata": {},
   "source": [
    "### Model GWPR"
   ]
  },
  {
   "cell_type": "code",
   "execution_count": 168,
   "id": "7cec15d1",
   "metadata": {
    "ExecuteTime": {
     "end_time": "2023-06-25T05:07:51.819593Z",
     "start_time": "2023-06-25T05:07:51.771903Z"
    }
   },
   "outputs": [
    {
     "data": {
      "application/javascript": [
       "\n",
       "        if (window._pyforest_update_imports_cell) { window._pyforest_update_imports_cell('import numpy as np\\nimport statsmodels.api as sm\\nfrom scipy import stats\\nimport pandas as pd'); }\n",
       "    "
      ],
      "text/plain": [
       "<IPython.core.display.Javascript object>"
      ]
     },
     "metadata": {},
     "output_type": "display_data"
    }
   ],
   "source": [
    "import libpysal\n",
    "from spglm.glm import GLM, GLMResults\n",
    "from spglm.family import Poisson\n",
    "from mgwr.sel_bw import Sel_BW\n",
    "from mgwr.gwr import GWR, MGWR\n",
    "\n",
    "coords = list(zip(geo['Latitude'],geo['Longitude']))\n",
    "X_gwpr = np.array(X_rp)\n",
    "y_gwpr = y_rp_sc.values.reshape((-1,1))"
   ]
  },
  {
   "cell_type": "code",
   "execution_count": 276,
   "id": "ac5f5d7b",
   "metadata": {
    "ExecuteTime": {
     "end_time": "2023-06-25T12:22:52.434465Z",
     "start_time": "2023-06-25T12:22:39.627547Z"
    }
   },
   "outputs": [
    {
     "data": {
      "application/javascript": [
       "\n",
       "        if (window._pyforest_update_imports_cell) { window._pyforest_update_imports_cell('import numpy as np\\nimport statsmodels.api as sm\\nfrom scipy import stats\\nimport pandas as pd'); }\n",
       "    "
      ],
      "text/plain": [
       "<IPython.core.display.Javascript object>"
      ]
     },
     "metadata": {},
     "output_type": "display_data"
    },
    {
     "data": {
      "text/html": [
       "<div>\n",
       "<style scoped>\n",
       "    .dataframe tbody tr th:only-of-type {\n",
       "        vertical-align: middle;\n",
       "    }\n",
       "\n",
       "    .dataframe tbody tr th {\n",
       "        vertical-align: top;\n",
       "    }\n",
       "\n",
       "    .dataframe thead th {\n",
       "        text-align: right;\n",
       "    }\n",
       "</style>\n",
       "<table border=\"1\" class=\"dataframe\">\n",
       "  <thead>\n",
       "    <tr style=\"text-align: right;\">\n",
       "      <th></th>\n",
       "      <th>Pembobot</th>\n",
       "      <th>AIC</th>\n",
       "    </tr>\n",
       "  </thead>\n",
       "  <tbody>\n",
       "    <tr>\n",
       "      <th>0</th>\n",
       "      <td>Adaptive Gaussian</td>\n",
       "      <td>74.277123</td>\n",
       "    </tr>\n",
       "    <tr>\n",
       "      <th>1</th>\n",
       "      <td>Adaptive Bisquare</td>\n",
       "      <td>75.486005</td>\n",
       "    </tr>\n",
       "    <tr>\n",
       "      <th>2</th>\n",
       "      <td>Adaptive Eksponensial</td>\n",
       "      <td>74.039517</td>\n",
       "    </tr>\n",
       "    <tr>\n",
       "      <th>3</th>\n",
       "      <td>Fixed Gaussian</td>\n",
       "      <td>72.189688</td>\n",
       "    </tr>\n",
       "    <tr>\n",
       "      <th>4</th>\n",
       "      <td>Adaptive Bisquare</td>\n",
       "      <td>71.813668</td>\n",
       "    </tr>\n",
       "    <tr>\n",
       "      <th>5</th>\n",
       "      <td>Adaptive Eksponensial</td>\n",
       "      <td>73.983971</td>\n",
       "    </tr>\n",
       "  </tbody>\n",
       "</table>\n",
       "</div>"
      ],
      "text/plain": [
       "                Pembobot        AIC\n",
       "0      Adaptive Gaussian  74.277123\n",
       "1      Adaptive Bisquare  75.486005\n",
       "2  Adaptive Eksponensial  74.039517\n",
       "3         Fixed Gaussian  72.189688\n",
       "4      Adaptive Bisquare  71.813668\n",
       "5  Adaptive Eksponensial  73.983971"
      ]
     },
     "execution_count": 276,
     "metadata": {},
     "output_type": "execute_result"
    }
   ],
   "source": [
    "pembobot_aic = []\n",
    "bw_a_gauss = Sel_BW(coords, y_gwpr, X_gwpr, kernel='gaussian', family = Poisson(), fixed=False).search(criterion='AIC')\n",
    "model_a_gauss = GWR(coords, y_gwpr, X_gwpr, kernel='gaussian', family = Poisson(), fixed=False, bw=bw_a_gauss).fit()\n",
    "pembobot_aic.append(('Adaptive Gaussian', model_a_gauss.aic))\n",
    "\n",
    "bw_a_bisq = Sel_BW(coords, y_gwpr, X_gwpr, kernel='bisquare', family = Poisson(), fixed=False).search(criterion='AIC')\n",
    "model_a_bisq = GWR(coords, y_gwpr, X_gwpr, kernel='bisquare', family = Poisson(), fixed=False, bw=bw_a_bisq).fit()\n",
    "pembobot_aic.append(('Adaptive Bisquare', model_a_bisq.aicc))\n",
    "\n",
    "bw_a_exp = Sel_BW(coords, y_gwpr, X_gwpr, kernel='exponential', family = Poisson(), fixed=False).search(criterion='AIC')\n",
    "model_a_exp = GWR(coords, y_gwpr, X_gwpr, kernel='exponential', family = Poisson(), fixed=False, bw=bw_a_bisq).fit()\n",
    "pembobot_aic.append(('Adaptive Eksponensial', model_a_exp.aicc))\n",
    "\n",
    "bw_f_gauss = Sel_BW(coords, y_gwpr, X_gwpr, kernel='gaussian', family = Poisson(), fixed=True).search(criterion='AIC')\n",
    "model_f_gauss = GWR(coords, y_gwpr, X_gwpr, kernel='gaussian', family = Poisson(), fixed=True, bw=bw_f_gauss).fit()\n",
    "pembobot_aic.append(('Fixed Gaussian', model_f_gauss.aic))\n",
    "\n",
    "bw_f_bisq = Sel_BW(coords, y_gwpr, X_gwpr, kernel='bisquare', family = Poisson(), fixed=True).search(criterion='AIC')\n",
    "model_f_bisq = GWR(coords, y_gwpr, X_gwpr, kernel='bisquare', family = Poisson(), fixed=True, bw=bw_f_bisq).fit()\n",
    "pembobot_aic.append(('Adaptive Bisquare', model_a_bisq.aic))\n",
    "\n",
    "bw_f_exp = Sel_BW(coords, y_gwpr, X_gwpr, kernel='exponential', family = Poisson(), fixed=True).search(criterion='AIC')\n",
    "model_f_exp = GWR(coords, y_gwpr, X_gwpr, kernel='exponential', family = Poisson(), fixed=True, bw=bw_f_bisq).fit()\n",
    "pembobot_aic.append(('Adaptive Eksponensial', model_f_exp.aic))\n",
    "\n",
    "pd.DataFrame(pembobot_aic, columns=['Pembobot', 'AIC'])"
   ]
  },
  {
   "cell_type": "code",
   "execution_count": 177,
   "id": "9d100ba2",
   "metadata": {
    "ExecuteTime": {
     "end_time": "2023-06-25T05:17:08.357483Z",
     "start_time": "2023-06-25T05:17:08.310632Z"
    }
   },
   "outputs": [
    {
     "name": "stdout",
     "output_type": "stream",
     "text": [
      "===========================================================================\n",
      "Model type                                                          Poisson\n",
      "Number of observations:                                                  56\n",
      "Number of covariates:                                                     5\n",
      "\n",
      "Global Regression Results\n",
      "---------------------------------------------------------------------------\n",
      "Deviance:                                                            27.855\n",
      "Log-likelihood:                                                    -189.888\n",
      "AIC:                                                                389.777\n",
      "AICc:                                                                76.552\n",
      "BIC:                                                               -177.438\n",
      "Percent deviance explained:                                           0.811\n",
      "Adj. percent deviance explained:                                      0.796\n",
      "\n",
      "Variable                              Est.         SE  t(Est/SE)    p-value\n",
      "------------------------------- ---------- ---------- ---------- ----------\n",
      "X0                                   3.340      0.057     58.982      0.000\n",
      "X1                                   0.000      0.000      0.892      0.372\n",
      "X2                                   0.003      0.001      5.995      0.000\n",
      "X3                                   0.000      0.000      2.172      0.030\n",
      "X4                                   0.000      0.000      4.024      0.000\n",
      "\n",
      "Geographically Weighted Regression (GWR) Results\n",
      "---------------------------------------------------------------------------\n",
      "Spatial kernel:                                           Adaptive bisquare\n",
      "Bandwidth used:                                                      54.000\n",
      "\n",
      "Diagnostic information\n",
      "---------------------------------------------------------------------------\n",
      "Effective number of parameters (trace(S)):                            8.731\n",
      "Degree of freedom (n - trace(S)):                                    47.269\n",
      "Log-likelihood:                                                    -184.389\n",
      "AIC:                                                                 71.814\n",
      "AICc:                                                                75.486\n",
      "BIC:                                                                 89.497\n",
      "Percent deviance explained:                                         0.632\n",
      "Adjusted percent deviance explained:                                0.562\n",
      "Adj. alpha (95%):                                                     0.029\n",
      "Adj. critical t value (95%):                                          2.248\n",
      "\n",
      "Summary Statistics For GWR Parameter Estimates\n",
      "---------------------------------------------------------------------------\n",
      "Variable                   Mean        STD        Min     Median        Max\n",
      "-------------------- ---------- ---------- ---------- ---------- ----------\n",
      "X0                        3.277      0.054      3.242      3.249      3.402\n",
      "X1                        0.000      0.000      0.000      0.000      0.000\n",
      "X2                        0.004      0.000      0.003      0.004      0.004\n",
      "X3                        0.001      0.000      0.000      0.001      0.001\n",
      "X4                        0.000      0.000      0.000      0.000      0.001\n",
      "===========================================================================\n",
      "\n"
     ]
    }
   ],
   "source": [
    "model_a_bisq.summary()"
   ]
  },
  {
   "cell_type": "markdown",
   "id": "9e0b6073",
   "metadata": {},
   "source": [
    "### Uji Keseuaian Model"
   ]
  },
  {
   "cell_type": "code",
   "execution_count": 179,
   "id": "c615c14f",
   "metadata": {
    "ExecuteTime": {
     "end_time": "2023-06-25T05:18:11.269790Z",
     "start_time": "2023-06-25T05:18:11.253727Z"
    }
   },
   "outputs": [
    {
     "data": {
      "text/plain": [
       "47.26918181848628"
      ]
     },
     "execution_count": 179,
     "metadata": {},
     "output_type": "execute_result"
    }
   ],
   "source": [
    "model_a_bisq.df_model #Df"
   ]
  },
  {
   "cell_type": "code",
   "execution_count": 305,
   "id": "fb8c350f",
   "metadata": {
    "ExecuteTime": {
     "end_time": "2023-06-25T13:01:12.676280Z",
     "start_time": "2023-06-25T13:01:12.662239Z"
    }
   },
   "outputs": [
    {
     "name": "stdout",
     "output_type": "stream",
     "text": [
      "F hitung: 2.715883302479163\n",
      "F tabel: 2.4116544426563893\n",
      "P value: 0.030861343876802505\n"
     ]
    }
   ],
   "source": [
    "from scipy.stats import f\n",
    "fh_sesuai = model_a_bisq.null_deviance/model_a_bisq.global_deviance #Fhitung\n",
    "pv_sesuai = 1 - f.cdf(model_a_bisq.null_deviance/model_a_bisq.global_deviance, 5, model_a_bisq.df_model) #pvalue\n",
    "ft_sesuai = f.ppf(1 - 0.05, 5, model_a_bisq.df_model)\n",
    "print('F hitung:', fh_sesuai)\n",
    "print('F tabel:',ft_sesuai)\n",
    "print('P value:',pv_sesuai)"
   ]
  },
  {
   "cell_type": "markdown",
   "id": "dd390f29",
   "metadata": {},
   "source": [
    "### Uji Serentak"
   ]
  },
  {
   "cell_type": "code",
   "execution_count": 237,
   "id": "7f31cf8c",
   "metadata": {
    "ExecuteTime": {
     "end_time": "2023-06-25T05:58:29.680813Z",
     "start_time": "2023-06-25T05:58:29.664847Z"
    }
   },
   "outputs": [
    {
     "name": "stdout",
     "output_type": "stream",
     "text": [
      "G hitung: 147.61377637290144\n",
      "Chisq tabel: 9.236356899781123\n"
     ]
    }
   ],
   "source": [
    "ct_serentak = chi2.ppf(1-0.1, 5) # Chisq tabel\n",
    "gh_serentak = model_a_bisq.null_deviance\n",
    "print('G hitung:', gh_serentak)\n",
    "print('Chisq tabel:',ct_serentak)"
   ]
  },
  {
   "cell_type": "markdown",
   "id": "4676f5b9",
   "metadata": {},
   "source": [
    "### Uji Parsial"
   ]
  },
  {
   "cell_type": "code",
   "execution_count": 250,
   "id": "59d9a105",
   "metadata": {
    "ExecuteTime": {
     "end_time": "2023-06-25T06:03:42.871368Z",
     "start_time": "2023-06-25T06:03:42.824615Z"
    }
   },
   "outputs": [
    {
     "data": {
      "application/javascript": [
       "\n",
       "        if (window._pyforest_update_imports_cell) { window._pyforest_update_imports_cell('import numpy as np\\nimport statsmodels.api as sm\\nfrom scipy import stats\\nimport pandas as pd'); }\n",
       "    "
      ],
      "text/plain": [
       "<IPython.core.display.Javascript object>"
      ]
     },
     "metadata": {},
     "output_type": "display_data"
    },
    {
     "data": {
      "text/html": [
       "<div>\n",
       "<style scoped>\n",
       "    .dataframe tbody tr th:only-of-type {\n",
       "        vertical-align: middle;\n",
       "    }\n",
       "\n",
       "    .dataframe tbody tr th {\n",
       "        vertical-align: top;\n",
       "    }\n",
       "\n",
       "    .dataframe thead th {\n",
       "        text-align: right;\n",
       "    }\n",
       "</style>\n",
       "<table border=\"1\" class=\"dataframe\">\n",
       "  <thead>\n",
       "    <tr style=\"text-align: right;\">\n",
       "      <th></th>\n",
       "      <th>pv_intercept</th>\n",
       "      <th>pv_x1</th>\n",
       "      <th>pv_x2</th>\n",
       "      <th>pv_x3</th>\n",
       "      <th>pv_x4</th>\n",
       "      <th>Variabel Signifikan</th>\n",
       "    </tr>\n",
       "  </thead>\n",
       "  <tbody>\n",
       "    <tr>\n",
       "      <th>0</th>\n",
       "      <td>0.0</td>\n",
       "      <td>1.0</td>\n",
       "      <td>0.0</td>\n",
       "      <td>1.000</td>\n",
       "      <td>0.000</td>\n",
       "      <td>x2, x4</td>\n",
       "    </tr>\n",
       "    <tr>\n",
       "      <th>1</th>\n",
       "      <td>0.0</td>\n",
       "      <td>1.0</td>\n",
       "      <td>0.0</td>\n",
       "      <td>0.003</td>\n",
       "      <td>0.006</td>\n",
       "      <td>x2, x3, x4</td>\n",
       "    </tr>\n",
       "    <tr>\n",
       "      <th>2</th>\n",
       "      <td>0.0</td>\n",
       "      <td>1.0</td>\n",
       "      <td>0.0</td>\n",
       "      <td>0.005</td>\n",
       "      <td>0.002</td>\n",
       "      <td>x2, x3, x4</td>\n",
       "    </tr>\n",
       "    <tr>\n",
       "      <th>3</th>\n",
       "      <td>0.0</td>\n",
       "      <td>1.0</td>\n",
       "      <td>0.0</td>\n",
       "      <td>0.009</td>\n",
       "      <td>0.001</td>\n",
       "      <td>x2, x3, x4</td>\n",
       "    </tr>\n",
       "    <tr>\n",
       "      <th>4</th>\n",
       "      <td>0.0</td>\n",
       "      <td>1.0</td>\n",
       "      <td>0.0</td>\n",
       "      <td>1.000</td>\n",
       "      <td>0.000</td>\n",
       "      <td>x2, x4</td>\n",
       "    </tr>\n",
       "  </tbody>\n",
       "</table>\n",
       "</div>"
      ],
      "text/plain": [
       "   pv_intercept  pv_x1  pv_x2  pv_x3  pv_x4 Variabel Signifikan\n",
       "0           0.0    1.0    0.0  1.000  0.000              x2, x4\n",
       "1           0.0    1.0    0.0  0.003  0.006          x2, x3, x4\n",
       "2           0.0    1.0    0.0  0.005  0.002          x2, x3, x4\n",
       "3           0.0    1.0    0.0  0.009  0.001          x2, x3, x4\n",
       "4           0.0    1.0    0.0  1.000  0.000              x2, x4"
      ]
     },
     "execution_count": 250,
     "metadata": {},
     "output_type": "execute_result"
    }
   ],
   "source": [
    "from scipy.stats import t\n",
    "pvalue_gwpr = pd.DataFrame(2 * (1 - t.cdf(abs(model_a_bisq.filter_tvals()), 52)), columns=['pv_intercept', 'pv_x1', 'pv_x2', 'pv_x3', 'pv_x4'])\n",
    "pvalue_gwpr = pvalue_gwpr.round(3)\n",
    "# Membuat kolom \"signifikansi\" dengan nilai nama kolom yang kurang dari 0.1\n",
    "pvalue_gwpr['Variabel Signifikan'] = pvalue_gwpr.iloc[:, 1:].apply(lambda row: ', '.join([col[3:] for col, val in row.items() if val < 0.1]), axis=1)\n",
    "pvalue_gwpr['Variabel Signifikan'] = pvalue_gwpr['Variabel Signifikan'].replace('', 'Tidak ada')\n",
    "pvalue_gwpr.head()"
   ]
  },
  {
   "cell_type": "markdown",
   "id": "e3f2f4f4",
   "metadata": {
    "ExecuteTime": {
     "end_time": "2023-06-25T06:07:50.012401Z",
     "start_time": "2023-06-25T06:07:49.996743Z"
    }
   },
   "source": [
    "## Evaluasi Model"
   ]
  },
  {
   "cell_type": "code",
   "execution_count": 258,
   "id": "7ee05216",
   "metadata": {
    "ExecuteTime": {
     "end_time": "2023-06-25T06:08:22.709819Z",
     "start_time": "2023-06-25T06:08:22.662886Z"
    }
   },
   "outputs": [
    {
     "data": {
      "application/javascript": [
       "\n",
       "        if (window._pyforest_update_imports_cell) { window._pyforest_update_imports_cell('import numpy as np\\nimport statsmodels.api as sm\\nfrom scipy import stats\\nimport pandas as pd'); }\n",
       "    "
      ],
      "text/plain": [
       "<IPython.core.display.Javascript object>"
      ]
     },
     "metadata": {},
     "output_type": "display_data"
    },
    {
     "data": {
      "text/html": [
       "<div>\n",
       "<style scoped>\n",
       "    .dataframe tbody tr th:only-of-type {\n",
       "        vertical-align: middle;\n",
       "    }\n",
       "\n",
       "    .dataframe tbody tr th {\n",
       "        vertical-align: top;\n",
       "    }\n",
       "\n",
       "    .dataframe thead th {\n",
       "        text-align: right;\n",
       "    }\n",
       "</style>\n",
       "<table border=\"1\" class=\"dataframe\">\n",
       "  <thead>\n",
       "    <tr style=\"text-align: right;\">\n",
       "      <th></th>\n",
       "      <th>Model</th>\n",
       "      <th>AIC</th>\n",
       "    </tr>\n",
       "  </thead>\n",
       "  <tbody>\n",
       "    <tr>\n",
       "      <th>0</th>\n",
       "      <td>Regresi Poisson</td>\n",
       "      <td>389.546908</td>\n",
       "    </tr>\n",
       "    <tr>\n",
       "      <th>1</th>\n",
       "      <td>GWPR</td>\n",
       "      <td>71.813668</td>\n",
       "    </tr>\n",
       "  </tbody>\n",
       "</table>\n",
       "</div>"
      ],
      "text/plain": [
       "             Model         AIC\n",
       "0  Regresi Poisson  389.546908\n",
       "1             GWPR   71.813668"
      ]
     },
     "execution_count": 258,
     "metadata": {},
     "output_type": "execute_result"
    }
   ],
   "source": [
    "eval = []\n",
    "eval.append(('Regresi Poisson', mod_reg_gwpr.aic))\n",
    "eval.append(('GWPR', model_a_bisq.aic))\n",
    "pd.DataFrame(eval, columns=['Model', 'AIC'])"
   ]
  },
  {
   "cell_type": "markdown",
   "id": "1755d776",
   "metadata": {},
   "source": [
    "## Estimasi Koefisien Lokal GWPR"
   ]
  },
  {
   "cell_type": "code",
   "execution_count": 271,
   "id": "32f034f0",
   "metadata": {
    "ExecuteTime": {
     "end_time": "2023-06-25T07:04:18.980983Z",
     "start_time": "2023-06-25T07:04:18.903194Z"
    }
   },
   "outputs": [
    {
     "data": {
      "application/javascript": [
       "\n",
       "        if (window._pyforest_update_imports_cell) { window._pyforest_update_imports_cell('import numpy as np\\nimport statsmodels.api as sm\\nfrom scipy import stats\\nimport pandas as pd'); }\n",
       "    "
      ],
      "text/plain": [
       "<IPython.core.display.Javascript object>"
      ]
     },
     "metadata": {},
     "output_type": "display_data"
    },
    {
     "data": {
      "text/html": [
       "<div>\n",
       "<style scoped>\n",
       "    .dataframe tbody tr th:only-of-type {\n",
       "        vertical-align: middle;\n",
       "    }\n",
       "\n",
       "    .dataframe tbody tr th {\n",
       "        vertical-align: top;\n",
       "    }\n",
       "\n",
       "    .dataframe thead th {\n",
       "        text-align: right;\n",
       "    }\n",
       "</style>\n",
       "<table border=\"1\" class=\"dataframe\">\n",
       "  <thead>\n",
       "    <tr style=\"text-align: right;\">\n",
       "      <th></th>\n",
       "      <th>intercept</th>\n",
       "      <th>x1</th>\n",
       "      <th>x2</th>\n",
       "      <th>x3</th>\n",
       "      <th>x4</th>\n",
       "      <th>Park</th>\n",
       "      <th>State</th>\n",
       "    </tr>\n",
       "  </thead>\n",
       "  <tbody>\n",
       "    <tr>\n",
       "      <th>0</th>\n",
       "      <td>3.250480</td>\n",
       "      <td>1.631494e-08</td>\n",
       "      <td>0.003685</td>\n",
       "      <td>0.000410</td>\n",
       "      <td>0.000523</td>\n",
       "      <td>Acadia National Park</td>\n",
       "      <td>Maine</td>\n",
       "    </tr>\n",
       "    <tr>\n",
       "      <th>1</th>\n",
       "      <td>3.243444</td>\n",
       "      <td>3.451111e-08</td>\n",
       "      <td>0.003480</td>\n",
       "      <td>0.000747</td>\n",
       "      <td>0.000380</td>\n",
       "      <td>Arches National Park</td>\n",
       "      <td>Utah</td>\n",
       "    </tr>\n",
       "    <tr>\n",
       "      <th>2</th>\n",
       "      <td>3.247378</td>\n",
       "      <td>2.632915e-08</td>\n",
       "      <td>0.003562</td>\n",
       "      <td>0.000634</td>\n",
       "      <td>0.000421</td>\n",
       "      <td>Badlands National Park</td>\n",
       "      <td>South Dakota</td>\n",
       "    </tr>\n",
       "    <tr>\n",
       "      <th>3</th>\n",
       "      <td>3.248427</td>\n",
       "      <td>2.888961e-08</td>\n",
       "      <td>0.003684</td>\n",
       "      <td>0.000478</td>\n",
       "      <td>0.000453</td>\n",
       "      <td>Big Bend National Park</td>\n",
       "      <td>Texas</td>\n",
       "    </tr>\n",
       "    <tr>\n",
       "      <th>4</th>\n",
       "      <td>3.254607</td>\n",
       "      <td>1.874907e-08</td>\n",
       "      <td>0.003644</td>\n",
       "      <td>0.000390</td>\n",
       "      <td>0.000519</td>\n",
       "      <td>Biscayne National Park</td>\n",
       "      <td>Florida</td>\n",
       "    </tr>\n",
       "    <tr>\n",
       "      <th>5</th>\n",
       "      <td>3.243225</td>\n",
       "      <td>3.316093e-08</td>\n",
       "      <td>0.003516</td>\n",
       "      <td>0.000706</td>\n",
       "      <td>0.000395</td>\n",
       "      <td>Black Canyon of the Gunnison National Park</td>\n",
       "      <td>Colorado</td>\n",
       "    </tr>\n",
       "    <tr>\n",
       "      <th>6</th>\n",
       "      <td>3.243266</td>\n",
       "      <td>3.716855e-08</td>\n",
       "      <td>0.003446</td>\n",
       "      <td>0.000792</td>\n",
       "      <td>0.000361</td>\n",
       "      <td>Bryce Canyon National Park</td>\n",
       "      <td>Utah</td>\n",
       "    </tr>\n",
       "    <tr>\n",
       "      <th>7</th>\n",
       "      <td>3.243005</td>\n",
       "      <td>3.534672e-08</td>\n",
       "      <td>0.003475</td>\n",
       "      <td>0.000754</td>\n",
       "      <td>0.000378</td>\n",
       "      <td>Canyonlands National Park</td>\n",
       "      <td>Utah</td>\n",
       "    </tr>\n",
       "    <tr>\n",
       "      <th>8</th>\n",
       "      <td>3.243193</td>\n",
       "      <td>3.637623e-08</td>\n",
       "      <td>0.003450</td>\n",
       "      <td>0.000783</td>\n",
       "      <td>0.000367</td>\n",
       "      <td>Capitol Reef National Park</td>\n",
       "      <td>Utah</td>\n",
       "    </tr>\n",
       "    <tr>\n",
       "      <th>9</th>\n",
       "      <td>3.246244</td>\n",
       "      <td>3.016020e-08</td>\n",
       "      <td>0.003641</td>\n",
       "      <td>0.000541</td>\n",
       "      <td>0.000438</td>\n",
       "      <td>Carlsbad Caverns National Park</td>\n",
       "      <td>New Mexico</td>\n",
       "    </tr>\n",
       "    <tr>\n",
       "      <th>10</th>\n",
       "      <td>3.243494</td>\n",
       "      <td>3.321293e-08</td>\n",
       "      <td>0.004035</td>\n",
       "      <td>0.000432</td>\n",
       "      <td>0.000374</td>\n",
       "      <td>Channel Islands National Park</td>\n",
       "      <td>California</td>\n",
       "    </tr>\n",
       "    <tr>\n",
       "      <th>11</th>\n",
       "      <td>3.250655</td>\n",
       "      <td>1.960032e-08</td>\n",
       "      <td>0.003648</td>\n",
       "      <td>0.000429</td>\n",
       "      <td>0.000510</td>\n",
       "      <td>Congaree National Park</td>\n",
       "      <td>South Carolina</td>\n",
       "    </tr>\n",
       "    <tr>\n",
       "      <th>12</th>\n",
       "      <td>3.277097</td>\n",
       "      <td>2.614011e-08</td>\n",
       "      <td>0.003409</td>\n",
       "      <td>0.000752</td>\n",
       "      <td>0.000312</td>\n",
       "      <td>Crater Lake National Park</td>\n",
       "      <td>Oregon</td>\n",
       "    </tr>\n",
       "    <tr>\n",
       "      <th>13</th>\n",
       "      <td>3.248567</td>\n",
       "      <td>1.969936e-08</td>\n",
       "      <td>0.003671</td>\n",
       "      <td>0.000449</td>\n",
       "      <td>0.000502</td>\n",
       "      <td>Cuyahoga Valley National Park</td>\n",
       "      <td>Ohio</td>\n",
       "    </tr>\n",
       "    <tr>\n",
       "      <th>14</th>\n",
       "      <td>3.394881</td>\n",
       "      <td>8.345146e-09</td>\n",
       "      <td>0.003148</td>\n",
       "      <td>0.000219</td>\n",
       "      <td>0.000331</td>\n",
       "      <td>Denali National Park and Preserve</td>\n",
       "      <td>Alaska</td>\n",
       "    </tr>\n",
       "    <tr>\n",
       "      <th>15</th>\n",
       "      <td>3.246912</td>\n",
       "      <td>3.290592e-08</td>\n",
       "      <td>0.003781</td>\n",
       "      <td>0.000574</td>\n",
       "      <td>0.000369</td>\n",
       "      <td>Death Valley National Park</td>\n",
       "      <td>California</td>\n",
       "    </tr>\n",
       "    <tr>\n",
       "      <th>16</th>\n",
       "      <td>3.254952</td>\n",
       "      <td>1.944719e-08</td>\n",
       "      <td>0.003647</td>\n",
       "      <td>0.000388</td>\n",
       "      <td>0.000515</td>\n",
       "      <td>Dry Tortugas National Park</td>\n",
       "      <td>Florida</td>\n",
       "    </tr>\n",
       "    <tr>\n",
       "      <th>17</th>\n",
       "      <td>3.254720</td>\n",
       "      <td>1.895436e-08</td>\n",
       "      <td>0.003645</td>\n",
       "      <td>0.000389</td>\n",
       "      <td>0.000518</td>\n",
       "      <td>Everglades National Park</td>\n",
       "      <td>Florida</td>\n",
       "    </tr>\n",
       "    <tr>\n",
       "      <th>18</th>\n",
       "      <td>3.398385</td>\n",
       "      <td>8.144699e-09</td>\n",
       "      <td>0.003123</td>\n",
       "      <td>0.000219</td>\n",
       "      <td>0.000328</td>\n",
       "      <td>Gates Of The Arctic National Park and Preserve</td>\n",
       "      <td>Alaska</td>\n",
       "    </tr>\n",
       "    <tr>\n",
       "      <th>19</th>\n",
       "      <td>3.265621</td>\n",
       "      <td>2.781544e-08</td>\n",
       "      <td>0.003164</td>\n",
       "      <td>0.000930</td>\n",
       "      <td>0.000328</td>\n",
       "      <td>Glacier National Park</td>\n",
       "      <td>Montana</td>\n",
       "    </tr>\n",
       "    <tr>\n",
       "      <th>20</th>\n",
       "      <td>3.374524</td>\n",
       "      <td>1.022319e-08</td>\n",
       "      <td>0.003218</td>\n",
       "      <td>0.000288</td>\n",
       "      <td>0.000338</td>\n",
       "      <td>Glacier Bay National Park and Preserve</td>\n",
       "      <td>Alaska</td>\n",
       "    </tr>\n",
       "    <tr>\n",
       "      <th>21</th>\n",
       "      <td>3.246253</td>\n",
       "      <td>3.661481e-08</td>\n",
       "      <td>0.003402</td>\n",
       "      <td>0.000840</td>\n",
       "      <td>0.000342</td>\n",
       "      <td>Great Basin National Park</td>\n",
       "      <td>Nevada</td>\n",
       "    </tr>\n",
       "    <tr>\n",
       "      <th>22</th>\n",
       "      <td>3.242733</td>\n",
       "      <td>3.697201e-08</td>\n",
       "      <td>0.003508</td>\n",
       "      <td>0.000741</td>\n",
       "      <td>0.000370</td>\n",
       "      <td>Grand Canyon National Park</td>\n",
       "      <td>Arizona</td>\n",
       "    </tr>\n",
       "    <tr>\n",
       "      <th>23</th>\n",
       "      <td>3.243246</td>\n",
       "      <td>3.186226e-08</td>\n",
       "      <td>0.003552</td>\n",
       "      <td>0.000657</td>\n",
       "      <td>0.000412</td>\n",
       "      <td>Great Sand Dunes National Park and Preserve</td>\n",
       "      <td>Colorado</td>\n",
       "    </tr>\n",
       "    <tr>\n",
       "      <th>24</th>\n",
       "      <td>3.249387</td>\n",
       "      <td>2.061515e-08</td>\n",
       "      <td>0.003650</td>\n",
       "      <td>0.000446</td>\n",
       "      <td>0.000503</td>\n",
       "      <td>Great Smoky Mountains National Park</td>\n",
       "      <td>nan</td>\n",
       "    </tr>\n",
       "    <tr>\n",
       "      <th>25</th>\n",
       "      <td>3.251761</td>\n",
       "      <td>2.998816e-08</td>\n",
       "      <td>0.003381</td>\n",
       "      <td>0.000805</td>\n",
       "      <td>0.000364</td>\n",
       "      <td>Grand Teton National Park</td>\n",
       "      <td>Wyoming</td>\n",
       "    </tr>\n",
       "    <tr>\n",
       "      <th>26</th>\n",
       "      <td>3.246210</td>\n",
       "      <td>3.041797e-08</td>\n",
       "      <td>0.003647</td>\n",
       "      <td>0.000539</td>\n",
       "      <td>0.000437</td>\n",
       "      <td>Guadalupe Mountains National Park</td>\n",
       "      <td>Texas</td>\n",
       "    </tr>\n",
       "    <tr>\n",
       "      <th>27</th>\n",
       "      <td>3.372599</td>\n",
       "      <td>9.589562e-09</td>\n",
       "      <td>0.003374</td>\n",
       "      <td>0.000154</td>\n",
       "      <td>0.000339</td>\n",
       "      <td>Haleakala National Park</td>\n",
       "      <td>Hawaii</td>\n",
       "    </tr>\n",
       "    <tr>\n",
       "      <th>28</th>\n",
       "      <td>3.369090</td>\n",
       "      <td>9.870415e-09</td>\n",
       "      <td>0.003399</td>\n",
       "      <td>0.000153</td>\n",
       "      <td>0.000341</td>\n",
       "      <td>Hawaii Volcanoes National Park</td>\n",
       "      <td>Hawaii</td>\n",
       "    </tr>\n",
       "    <tr>\n",
       "      <th>29</th>\n",
       "      <td>3.248069</td>\n",
       "      <td>2.415265e-08</td>\n",
       "      <td>0.003633</td>\n",
       "      <td>0.000492</td>\n",
       "      <td>0.000477</td>\n",
       "      <td>Hot Springs National Park</td>\n",
       "      <td>Arkansas</td>\n",
       "    </tr>\n",
       "    <tr>\n",
       "      <th>30</th>\n",
       "      <td>3.250573</td>\n",
       "      <td>2.012079e-08</td>\n",
       "      <td>0.003637</td>\n",
       "      <td>0.000507</td>\n",
       "      <td>0.000473</td>\n",
       "      <td>Isle Royale National Park</td>\n",
       "      <td>Michigan</td>\n",
       "    </tr>\n",
       "    <tr>\n",
       "      <th>31</th>\n",
       "      <td>3.241598</td>\n",
       "      <td>3.519466e-08</td>\n",
       "      <td>0.003862</td>\n",
       "      <td>0.000526</td>\n",
       "      <td>0.000381</td>\n",
       "      <td>Joshua Tree National Park</td>\n",
       "      <td>California</td>\n",
       "    </tr>\n",
       "    <tr>\n",
       "      <th>32</th>\n",
       "      <td>3.396859</td>\n",
       "      <td>8.065591e-09</td>\n",
       "      <td>0.003157</td>\n",
       "      <td>0.000198</td>\n",
       "      <td>0.000330</td>\n",
       "      <td>Katmai National Park and Preserve</td>\n",
       "      <td>Alaska</td>\n",
       "    </tr>\n",
       "    <tr>\n",
       "      <th>33</th>\n",
       "      <td>3.392873</td>\n",
       "      <td>8.425999e-09</td>\n",
       "      <td>0.003168</td>\n",
       "      <td>0.000215</td>\n",
       "      <td>0.000332</td>\n",
       "      <td>Kenai Fjords National Park</td>\n",
       "      <td>Alaska</td>\n",
       "    </tr>\n",
       "    <tr>\n",
       "      <th>34</th>\n",
       "      <td>3.402046</td>\n",
       "      <td>7.813858e-09</td>\n",
       "      <td>0.003114</td>\n",
       "      <td>0.000204</td>\n",
       "      <td>0.000326</td>\n",
       "      <td>Kobuk Valley National Park</td>\n",
       "      <td>Alaska</td>\n",
       "    </tr>\n",
       "    <tr>\n",
       "      <th>35</th>\n",
       "      <td>3.396467</td>\n",
       "      <td>8.147566e-09</td>\n",
       "      <td>0.003151</td>\n",
       "      <td>0.000206</td>\n",
       "      <td>0.000330</td>\n",
       "      <td>Lake Clark National Park and Preserve</td>\n",
       "      <td>Alaska</td>\n",
       "    </tr>\n",
       "    <tr>\n",
       "      <th>36</th>\n",
       "      <td>3.264011</td>\n",
       "      <td>2.982119e-08</td>\n",
       "      <td>0.003556</td>\n",
       "      <td>0.000719</td>\n",
       "      <td>0.000317</td>\n",
       "      <td>Lassen Volcanic National Park</td>\n",
       "      <td>California</td>\n",
       "    </tr>\n",
       "    <tr>\n",
       "      <th>37</th>\n",
       "      <td>3.248252</td>\n",
       "      <td>2.163301e-08</td>\n",
       "      <td>0.003651</td>\n",
       "      <td>0.000463</td>\n",
       "      <td>0.000495</td>\n",
       "      <td>Mammoth Cave National Park</td>\n",
       "      <td>Kentucky</td>\n",
       "    </tr>\n",
       "    <tr>\n",
       "      <th>38</th>\n",
       "      <td>3.243136</td>\n",
       "      <td>3.404252e-08</td>\n",
       "      <td>0.003515</td>\n",
       "      <td>0.000705</td>\n",
       "      <td>0.000393</td>\n",
       "      <td>Mesa Verde National Park</td>\n",
       "      <td>Colorado</td>\n",
       "    </tr>\n",
       "    <tr>\n",
       "      <th>39</th>\n",
       "      <td>3.289594</td>\n",
       "      <td>2.436817e-08</td>\n",
       "      <td>0.003120</td>\n",
       "      <td>0.000887</td>\n",
       "      <td>0.000296</td>\n",
       "      <td>Mount Rainier National Park</td>\n",
       "      <td>Washington</td>\n",
       "    </tr>\n",
       "    <tr>\n",
       "      <th>40</th>\n",
       "      <td>3.292121</td>\n",
       "      <td>2.463481e-08</td>\n",
       "      <td>0.002974</td>\n",
       "      <td>0.000979</td>\n",
       "      <td>0.000284</td>\n",
       "      <td>North Cascades National Park</td>\n",
       "      <td>Washington</td>\n",
       "    </tr>\n",
       "    <tr>\n",
       "      <th>41</th>\n",
       "      <td>3.303042</td>\n",
       "      <td>2.053331e-08</td>\n",
       "      <td>0.003262</td>\n",
       "      <td>0.000701</td>\n",
       "      <td>0.000316</td>\n",
       "      <td>Olympic National Park</td>\n",
       "      <td>Washington</td>\n",
       "    </tr>\n",
       "    <tr>\n",
       "      <th>42</th>\n",
       "      <td>3.243210</td>\n",
       "      <td>3.476760e-08</td>\n",
       "      <td>0.003562</td>\n",
       "      <td>0.000671</td>\n",
       "      <td>0.000394</td>\n",
       "      <td>Petrified Forest National Park</td>\n",
       "      <td>Arizona</td>\n",
       "    </tr>\n",
       "    <tr>\n",
       "      <th>43</th>\n",
       "      <td>3.246574</td>\n",
       "      <td>3.365220e-08</td>\n",
       "      <td>0.003944</td>\n",
       "      <td>0.000525</td>\n",
       "      <td>0.000344</td>\n",
       "      <td>Pinnacles National Park</td>\n",
       "      <td>California</td>\n",
       "    </tr>\n",
       "    <tr>\n",
       "      <th>44</th>\n",
       "      <td>3.281335</td>\n",
       "      <td>2.286741e-08</td>\n",
       "      <td>0.003702</td>\n",
       "      <td>0.000512</td>\n",
       "      <td>0.000339</td>\n",
       "      <td>Redwood National Park</td>\n",
       "      <td>California</td>\n",
       "    </tr>\n",
       "    <tr>\n",
       "      <th>45</th>\n",
       "      <td>3.244830</td>\n",
       "      <td>3.001756e-08</td>\n",
       "      <td>0.003542</td>\n",
       "      <td>0.000671</td>\n",
       "      <td>0.000407</td>\n",
       "      <td>Rocky Mountain National Park</td>\n",
       "      <td>Colorado</td>\n",
       "    </tr>\n",
       "    <tr>\n",
       "      <th>46</th>\n",
       "      <td>3.242925</td>\n",
       "      <td>3.497481e-08</td>\n",
       "      <td>0.003681</td>\n",
       "      <td>0.000578</td>\n",
       "      <td>0.000406</td>\n",
       "      <td>Saguaro National Park</td>\n",
       "      <td>Arizona</td>\n",
       "    </tr>\n",
       "    <tr>\n",
       "      <th>47</th>\n",
       "      <td>3.246308</td>\n",
       "      <td>3.353445e-08</td>\n",
       "      <td>0.003840</td>\n",
       "      <td>0.000563</td>\n",
       "      <td>0.000358</td>\n",
       "      <td>Sequoia and Kings Canyon National Parks</td>\n",
       "      <td>California</td>\n",
       "    </tr>\n",
       "    <tr>\n",
       "      <th>48</th>\n",
       "      <td>3.249469</td>\n",
       "      <td>1.898993e-08</td>\n",
       "      <td>0.003665</td>\n",
       "      <td>0.000431</td>\n",
       "      <td>0.000512</td>\n",
       "      <td>Shenandoah National Park</td>\n",
       "      <td>Virginia</td>\n",
       "    </tr>\n",
       "    <tr>\n",
       "      <th>49</th>\n",
       "      <td>3.251770</td>\n",
       "      <td>2.479909e-08</td>\n",
       "      <td>0.003510</td>\n",
       "      <td>0.000661</td>\n",
       "      <td>0.000412</td>\n",
       "      <td>Theodore Roosevelt National Park</td>\n",
       "      <td>North Dakota</td>\n",
       "    </tr>\n",
       "    <tr>\n",
       "      <th>50</th>\n",
       "      <td>3.251078</td>\n",
       "      <td>2.110948e-08</td>\n",
       "      <td>0.003610</td>\n",
       "      <td>0.000540</td>\n",
       "      <td>0.000458</td>\n",
       "      <td>Voyageurs National Park</td>\n",
       "      <td>Minnesota</td>\n",
       "    </tr>\n",
       "    <tr>\n",
       "      <th>51</th>\n",
       "      <td>3.247329</td>\n",
       "      <td>2.687839e-08</td>\n",
       "      <td>0.003550</td>\n",
       "      <td>0.000649</td>\n",
       "      <td>0.000416</td>\n",
       "      <td>Wind Cave National Park</td>\n",
       "      <td>South Dakota</td>\n",
       "    </tr>\n",
       "    <tr>\n",
       "      <th>52</th>\n",
       "      <td>3.384576</td>\n",
       "      <td>9.265485e-09</td>\n",
       "      <td>0.003184</td>\n",
       "      <td>0.000254</td>\n",
       "      <td>0.000335</td>\n",
       "      <td>Wrangell - St Elias National Park and Preserve</td>\n",
       "      <td>Alaska</td>\n",
       "    </tr>\n",
       "    <tr>\n",
       "      <th>53</th>\n",
       "      <td>3.253183</td>\n",
       "      <td>2.900486e-08</td>\n",
       "      <td>0.003374</td>\n",
       "      <td>0.000801</td>\n",
       "      <td>0.000366</td>\n",
       "      <td>Yellowstone National Park</td>\n",
       "      <td>Wyoming</td>\n",
       "    </tr>\n",
       "    <tr>\n",
       "      <th>54</th>\n",
       "      <td>3.249225</td>\n",
       "      <td>3.388073e-08</td>\n",
       "      <td>0.003726</td>\n",
       "      <td>0.000649</td>\n",
       "      <td>0.000338</td>\n",
       "      <td>Yosemite National Park</td>\n",
       "      <td>California</td>\n",
       "    </tr>\n",
       "    <tr>\n",
       "      <th>55</th>\n",
       "      <td>3.243165</td>\n",
       "      <td>3.791155e-08</td>\n",
       "      <td>0.003445</td>\n",
       "      <td>0.000801</td>\n",
       "      <td>0.000355</td>\n",
       "      <td>Zion National Park</td>\n",
       "      <td>Utah</td>\n",
       "    </tr>\n",
       "  </tbody>\n",
       "</table>\n",
       "</div>"
      ],
      "text/plain": [
       "    intercept            x1        x2        x3        x4  \\\n",
       "0    3.250480  1.631494e-08  0.003685  0.000410  0.000523   \n",
       "1    3.243444  3.451111e-08  0.003480  0.000747  0.000380   \n",
       "2    3.247378  2.632915e-08  0.003562  0.000634  0.000421   \n",
       "3    3.248427  2.888961e-08  0.003684  0.000478  0.000453   \n",
       "4    3.254607  1.874907e-08  0.003644  0.000390  0.000519   \n",
       "5    3.243225  3.316093e-08  0.003516  0.000706  0.000395   \n",
       "6    3.243266  3.716855e-08  0.003446  0.000792  0.000361   \n",
       "7    3.243005  3.534672e-08  0.003475  0.000754  0.000378   \n",
       "8    3.243193  3.637623e-08  0.003450  0.000783  0.000367   \n",
       "9    3.246244  3.016020e-08  0.003641  0.000541  0.000438   \n",
       "10   3.243494  3.321293e-08  0.004035  0.000432  0.000374   \n",
       "11   3.250655  1.960032e-08  0.003648  0.000429  0.000510   \n",
       "12   3.277097  2.614011e-08  0.003409  0.000752  0.000312   \n",
       "13   3.248567  1.969936e-08  0.003671  0.000449  0.000502   \n",
       "14   3.394881  8.345146e-09  0.003148  0.000219  0.000331   \n",
       "15   3.246912  3.290592e-08  0.003781  0.000574  0.000369   \n",
       "16   3.254952  1.944719e-08  0.003647  0.000388  0.000515   \n",
       "17   3.254720  1.895436e-08  0.003645  0.000389  0.000518   \n",
       "18   3.398385  8.144699e-09  0.003123  0.000219  0.000328   \n",
       "19   3.265621  2.781544e-08  0.003164  0.000930  0.000328   \n",
       "20   3.374524  1.022319e-08  0.003218  0.000288  0.000338   \n",
       "21   3.246253  3.661481e-08  0.003402  0.000840  0.000342   \n",
       "22   3.242733  3.697201e-08  0.003508  0.000741  0.000370   \n",
       "23   3.243246  3.186226e-08  0.003552  0.000657  0.000412   \n",
       "24   3.249387  2.061515e-08  0.003650  0.000446  0.000503   \n",
       "25   3.251761  2.998816e-08  0.003381  0.000805  0.000364   \n",
       "26   3.246210  3.041797e-08  0.003647  0.000539  0.000437   \n",
       "27   3.372599  9.589562e-09  0.003374  0.000154  0.000339   \n",
       "28   3.369090  9.870415e-09  0.003399  0.000153  0.000341   \n",
       "29   3.248069  2.415265e-08  0.003633  0.000492  0.000477   \n",
       "30   3.250573  2.012079e-08  0.003637  0.000507  0.000473   \n",
       "31   3.241598  3.519466e-08  0.003862  0.000526  0.000381   \n",
       "32   3.396859  8.065591e-09  0.003157  0.000198  0.000330   \n",
       "33   3.392873  8.425999e-09  0.003168  0.000215  0.000332   \n",
       "34   3.402046  7.813858e-09  0.003114  0.000204  0.000326   \n",
       "35   3.396467  8.147566e-09  0.003151  0.000206  0.000330   \n",
       "36   3.264011  2.982119e-08  0.003556  0.000719  0.000317   \n",
       "37   3.248252  2.163301e-08  0.003651  0.000463  0.000495   \n",
       "38   3.243136  3.404252e-08  0.003515  0.000705  0.000393   \n",
       "39   3.289594  2.436817e-08  0.003120  0.000887  0.000296   \n",
       "40   3.292121  2.463481e-08  0.002974  0.000979  0.000284   \n",
       "41   3.303042  2.053331e-08  0.003262  0.000701  0.000316   \n",
       "42   3.243210  3.476760e-08  0.003562  0.000671  0.000394   \n",
       "43   3.246574  3.365220e-08  0.003944  0.000525  0.000344   \n",
       "44   3.281335  2.286741e-08  0.003702  0.000512  0.000339   \n",
       "45   3.244830  3.001756e-08  0.003542  0.000671  0.000407   \n",
       "46   3.242925  3.497481e-08  0.003681  0.000578  0.000406   \n",
       "47   3.246308  3.353445e-08  0.003840  0.000563  0.000358   \n",
       "48   3.249469  1.898993e-08  0.003665  0.000431  0.000512   \n",
       "49   3.251770  2.479909e-08  0.003510  0.000661  0.000412   \n",
       "50   3.251078  2.110948e-08  0.003610  0.000540  0.000458   \n",
       "51   3.247329  2.687839e-08  0.003550  0.000649  0.000416   \n",
       "52   3.384576  9.265485e-09  0.003184  0.000254  0.000335   \n",
       "53   3.253183  2.900486e-08  0.003374  0.000801  0.000366   \n",
       "54   3.249225  3.388073e-08  0.003726  0.000649  0.000338   \n",
       "55   3.243165  3.791155e-08  0.003445  0.000801  0.000355   \n",
       "\n",
       "                                              Park           State  \n",
       "0                             Acadia National Park           Maine  \n",
       "1                             Arches National Park            Utah  \n",
       "2                           Badlands National Park    South Dakota  \n",
       "3                           Big Bend National Park           Texas  \n",
       "4                           Biscayne National Park         Florida  \n",
       "5       Black Canyon of the Gunnison National Park        Colorado  \n",
       "6                       Bryce Canyon National Park            Utah  \n",
       "7                        Canyonlands National Park            Utah  \n",
       "8                       Capitol Reef National Park            Utah  \n",
       "9                   Carlsbad Caverns National Park      New Mexico  \n",
       "10                   Channel Islands National Park      California  \n",
       "11                          Congaree National Park  South Carolina  \n",
       "12                       Crater Lake National Park          Oregon  \n",
       "13                   Cuyahoga Valley National Park            Ohio  \n",
       "14               Denali National Park and Preserve          Alaska  \n",
       "15                      Death Valley National Park      California  \n",
       "16                      Dry Tortugas National Park         Florida  \n",
       "17                        Everglades National Park         Florida  \n",
       "18  Gates Of The Arctic National Park and Preserve          Alaska  \n",
       "19                           Glacier National Park         Montana  \n",
       "20          Glacier Bay National Park and Preserve          Alaska  \n",
       "21                       Great Basin National Park          Nevada  \n",
       "22                      Grand Canyon National Park         Arizona  \n",
       "23     Great Sand Dunes National Park and Preserve        Colorado  \n",
       "24             Great Smoky Mountains National Park             nan  \n",
       "25                       Grand Teton National Park         Wyoming  \n",
       "26               Guadalupe Mountains National Park           Texas  \n",
       "27                         Haleakala National Park          Hawaii  \n",
       "28                  Hawaii Volcanoes National Park          Hawaii  \n",
       "29                       Hot Springs National Park        Arkansas  \n",
       "30                       Isle Royale National Park        Michigan  \n",
       "31                       Joshua Tree National Park      California  \n",
       "32               Katmai National Park and Preserve          Alaska  \n",
       "33                      Kenai Fjords National Park          Alaska  \n",
       "34                      Kobuk Valley National Park          Alaska  \n",
       "35           Lake Clark National Park and Preserve          Alaska  \n",
       "36                   Lassen Volcanic National Park      California  \n",
       "37                      Mammoth Cave National Park        Kentucky  \n",
       "38                        Mesa Verde National Park        Colorado  \n",
       "39                     Mount Rainier National Park      Washington  \n",
       "40                    North Cascades National Park      Washington  \n",
       "41                           Olympic National Park      Washington  \n",
       "42                  Petrified Forest National Park         Arizona  \n",
       "43                         Pinnacles National Park      California  \n",
       "44                           Redwood National Park      California  \n",
       "45                    Rocky Mountain National Park        Colorado  \n",
       "46                           Saguaro National Park         Arizona  \n",
       "47         Sequoia and Kings Canyon National Parks      California  \n",
       "48                        Shenandoah National Park        Virginia  \n",
       "49                Theodore Roosevelt National Park    North Dakota  \n",
       "50                         Voyageurs National Park       Minnesota  \n",
       "51                         Wind Cave National Park    South Dakota  \n",
       "52  Wrangell - St Elias National Park and Preserve          Alaska  \n",
       "53                       Yellowstone National Park         Wyoming  \n",
       "54                          Yosemite National Park      California  \n",
       "55                              Zion National Park            Utah  "
      ]
     },
     "execution_count": 271,
     "metadata": {},
     "output_type": "execute_result"
    }
   ],
   "source": [
    "coef_gwpr = pd.DataFrame(model_a_bisq.params,columns=['intercept', 'x1', 'x2', 'x3', 'x4'])\n",
    "coef_gwpr['Park'] = geo['Park Name']\n",
    "coef_gwpr['State'] = geo['State_FullName']\n",
    "coef_gwpr"
   ]
  },
  {
   "cell_type": "code",
   "execution_count": 274,
   "id": "9d1d87a5",
   "metadata": {
    "ExecuteTime": {
     "end_time": "2023-06-25T09:55:52.759853Z",
     "start_time": "2023-06-25T09:55:52.611996Z"
    }
   },
   "outputs": [],
   "source": [
    "pvalue_gwpr['Park'] = geo['Park Name']\n",
    "pvalue_gwpr.to_excel('pvalue_gwpr.xlsx', index = False)"
   ]
  },
  {
   "cell_type": "code",
   "execution_count": 275,
   "id": "9069f537",
   "metadata": {
    "ExecuteTime": {
     "end_time": "2023-06-25T10:11:53.010274Z",
     "start_time": "2023-06-25T10:11:52.877906Z"
    }
   },
   "outputs": [],
   "source": [
    "coef_gwpr.to_excel('coef_gwpr.xlsx', index = False)"
   ]
  }
 ],
 "metadata": {
  "kernelspec": {
   "display_name": "icstar3",
   "language": "python",
   "name": "icstar3"
  },
  "language_info": {
   "codemirror_mode": {
    "name": "ipython",
    "version": 3
   },
   "file_extension": ".py",
   "mimetype": "text/x-python",
   "name": "python",
   "nbconvert_exporter": "python",
   "pygments_lexer": "ipython3",
   "version": "3.9.13"
  },
  "toc": {
   "base_numbering": 1,
   "nav_menu": {},
   "number_sections": true,
   "sideBar": true,
   "skip_h1_title": false,
   "title_cell": "Table of Contents",
   "title_sidebar": "Contents",
   "toc_cell": false,
   "toc_position": {},
   "toc_section_display": true,
   "toc_window_display": false
  }
 },
 "nbformat": 4,
 "nbformat_minor": 5
}
